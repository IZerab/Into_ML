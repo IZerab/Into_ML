{
 "cells": [
  {
   "cell_type": "code",
   "execution_count": 1,
   "id": "3bcd3318",
   "metadata": {},
   "outputs": [],
   "source": [
    "import h5py\n",
    "import numpy as np\n",
    "import pandas as pd\n",
    "from sklearn.preprocessing import StandardScaler\n",
    "import matplotlib.colors as colors\n",
    "from sklearn.metrics import accuracy_score\n",
    "from sklearn.metrics import confusion_matrix, ConfusionMatrixDisplay\n",
    "from sklearn.model_selection import GridSearchCV\n",
    "\n",
    "# custom libs\n",
    "from Task_1 import custom_log_reg"
   ]
  },
  {
   "cell_type": "markdown",
   "id": "ffd65279",
   "metadata": {},
   "source": [
    "# Task 1: build a kernelized logistic regressor"
   ]
  },
  {
   "cell_type": "markdown",
   "id": "53df3c85",
   "metadata": {},
   "source": [
    "To implement the kernel logistic regression I created a dedicate class which contained 3 modules:\n",
    "\n",
    "- **fit:** the function first cast the input to a numpy.array (I added this part since it is easier to handle data in a pandas DF format) and then I saved the number of instances (m). Then I computed the kernel matrix with the function that was instantiated when initializing the function using the keywords \"gaussian\" or \"linear\" (notice that only a RBF and a Linear Kernel are implemented at the moment! The kernel matrix is then saved inside the class. To add more kernel it is necessary to update the __init__ module of the class and to create the appropriate kernel function. I did not add them since only the RBF kernel was requested, but I implemented a scalable function, like requested in the assignment). Then I initialize a vector of zeros for the alpha weights with the same dimension as the numebr of instances. Subsequently I implemented the vanilla GD (executed for max_iter iterations) computing the gradient of the logistic regression cost function (see the code for the math). Finally I saved the logistic regression cost at the current iteration in a list and I returned it. The tuned weights are saved inside the class and are available for the next parts.\n",
    "\n",
    "- **predict_prob:** the function computes the sigmoid of the dot product between the trained alphas and the already computed kernel matrix, those are the probabilities.\n",
    "\n",
    "- **predict:** calls predict_prob to get the probabilities and then applies a threshold to get the labels in the binary classification problem"
   ]
  },
  {
   "cell_type": "markdown",
   "id": "e561dd3d",
   "metadata": {},
   "source": [
    "# Import data"
   ]
  },
  {
   "cell_type": "code",
   "execution_count": 2,
   "id": "11cc60df",
   "metadata": {},
   "outputs": [],
   "source": [
    "hf = h5py.File(\"regression.h5\", \"r\")\n",
    "x_train = np.array(hf.get(\"x_train\"))\n",
    "y_train_double = np.array(hf.get(\"y_train\"))\n",
    "x_test = np.array(hf.get(\"x_test\"))\n",
    "y_test_double = np.array(hf.get(\"y_test\"))\n",
    "hf.close()\n",
    "\n",
    "y_train_double = np.stack(y_train_double, axis=1 )\n",
    "y_test_double = np.stack(y_test_double, axis=1 )\n",
    "\n",
    "\n",
    "\n",
    "# scale the data\n",
    "my_scaler = StandardScaler()\n",
    "x_train = my_scaler.fit_transform(x_train)\n",
    "x_test = my_scaler.transform(x_test)\n",
    "\n",
    "# create a pandas df\n",
    "columns = [\"x\", \"y\", \"age_house\", \"carbon_emission\", \"dist_school\", \"avg_child_neigh\"]\n",
    "x_train = pd.DataFrame(x_train, columns = columns)\n",
    "x_test = pd.DataFrame(x_test, columns = columns)\n",
    "y_train = pd.Series(y_train_double[0], name=\"Chimney\")\n",
    "y_test = pd.Series(y_test_double[0], name=\"Chimney\")\n",
    "\n"
   ]
  },
  {
   "cell_type": "markdown",
   "id": "d8eca4c5",
   "metadata": {},
   "source": [
    "# Subtask 1: Kernelized Logistic Regression"
   ]
  },
  {
   "cell_type": "code",
   "execution_count": 3,
   "id": "b4200c73",
   "metadata": {},
   "outputs": [
    {
     "name": "stdout",
     "output_type": "stream",
     "text": [
      "The cost at the iteration 0 is 690.2992457518601\n",
      "The cost at the iteration 200 is 676.7011510162456\n",
      "The cost at the iteration 400 is 674.819113435558\n",
      "-----------------------------------\n",
      "The accuracy score on train resulted to be: 0.998\n",
      "The accuracy score on test resulted to be: 0.531\n"
     ]
    },
    {
     "data": {
      "text/plain": [
       "<sklearn.metrics._plot.confusion_matrix.ConfusionMatrixDisplay at 0x1290cf05be0>"
      ]
     },
     "execution_count": 3,
     "metadata": {},
     "output_type": "execute_result"
    },
    {
     "data": {
      "image/png": "[encoded data removed]",
      "text/plain": [
       "<Figure size 432x288 with 2 Axes>"
      ]
     },
     "metadata": {
      "needs_background": "light"
     },
     "output_type": "display_data"
    }
   ],
   "source": [
    "# set my parameters\n",
    "maxIter = 600\n",
    "lr = 0.01\n",
    "sigma = 0.01\n",
    "alpha = np.zeros(4)\n",
    "\n",
    "# create the ML dataframes\n",
    "x_train_1 = x_train.loc[:, ['x', 'y']]\n",
    "x_test_1 = x_test.loc[:, ['x', 'y']]\n",
    "\n",
    "my_log_reg = custom_log_reg(kernel='gaussian', hyper_kernel=sigma)\n",
    "costs = my_log_reg.fit(X=x_train_1, y=y_train, lr=lr, max_steps=maxIter, Lambda = 0.001, verbose = True)\n",
    "\n",
    "# assess the results!\n",
    "Z = my_log_reg.predict(x_test_1, threshold=0.5)\n",
    "Z_train = my_log_reg.predict(x_train_1, threshold=0.5)\n",
    "\n",
    "print(\"-----------------------------------\")\n",
    "print(\"The accuracy score on train resulted to be: {}\".format(accuracy_score(Z_train, y_train)))\n",
    "print(\"The accuracy score on test resulted to be: {}\".format(accuracy_score(Z, y_test)))\n",
    "\n",
    "# plot the confusion matrix\n",
    "disp = ConfusionMatrixDisplay(confusion_matrix(Z, y_test))\n",
    "disp.plot()"
   ]
  },
  {
   "cell_type": "markdown",
   "id": "fe49218d",
   "metadata": {},
   "source": [
    "# subtask 2: get better results!\n",
    "\n",
    "In this task we use all the training data to do the regression. Since we are using a lot of features we need to have fast kernel computations i.e. not computing puntually each element of the kernel matrix! A nice way to do that is using the fact that you can compute the norm of each element of the design matrix and storing it. This avoid to compute the norm each iteration saving time, in fact that ||x_i-x_j||^2 = ||x_i||^2 + ||x_j||^2 - 2 * x_i^T * x_j.\n",
    "I also implemented the operations s.t. we are using matrix notation, making it more readable.\n"
   ]
  },
  {
   "cell_type": "code",
   "execution_count": 4,
   "id": "ba254c4e",
   "metadata": {},
   "outputs": [
    {
     "name": "stdout",
     "output_type": "stream",
     "text": [
      "The cost at the iteration 0 is 6.965348489095306\n",
      "The cost at the iteration 200 is 5.360257199672918\n",
      "The cost at the iteration 400 is 5.196157338750665\n",
      "-----------------------------------\n",
      "The accuracy score on train resulted to be: 1.0\n",
      "The accuracy score on test resulted to be: 0.532\n"
     ]
    },
    {
     "data": {
      "text/plain": [
       "<sklearn.metrics._plot.confusion_matrix.ConfusionMatrixDisplay at 0x1290b782b20>"
      ]
     },
     "execution_count": 4,
     "metadata": {},
     "output_type": "execute_result"
    },
    {
     "data": {
      "image/png": "[encoded data removed]",
      "text/plain": [
       "<Figure size 432x288 with 2 Axes>"
      ]
     },
     "metadata": {
      "needs_background": "light"
     },
     "output_type": "display_data"
    }
   ],
   "source": [
    "# set my parameters\n",
    "maxIter = 600\n",
    "lr = 0.001\n",
    "sigma = 0.01\n",
    "var = 100\n",
    "Lambda = 0.001\n",
    "alpha = np.zeros(4)\n",
    "\n",
    "my_log_reg = custom_log_reg(kernel='custom', hyper_kernel=(sigma, var))\n",
    "costs = my_log_reg.fit(X=x_train, y=y_train, lr=lr, max_steps=maxIter, Lambda = Lambda, verbose = True)\n",
    "\n",
    "# assess the results!\n",
    "Z = my_log_reg.predict(x_test, threshold=0.5)\n",
    "Z_train = my_log_reg.predict(x_train, threshold=0.5)\n",
    "\n",
    "print(\"-----------------------------------\")\n",
    "print(\"The accuracy score on train resulted to be: {}\".format(accuracy_score(Z_train, y_train)))\n",
    "print(\"The accuracy score on test resulted to be: {}\".format(accuracy_score(Z, y_test)))\n",
    "\n",
    "# plot the confusion matrix\n",
    "disp = ConfusionMatrixDisplay(confusion_matrix(Z, y_test))\n",
    "disp.plot()"
   ]
  },
  {
   "cell_type": "markdown",
   "id": "bb08cd2e",
   "metadata": {},
   "source": [
    "# Try some Grid_search cross validation!"
   ]
  },
  {
   "cell_type": "code",
   "execution_count": 5,
   "id": "8394e1b7",
   "metadata": {},
   "outputs": [
    {
     "name": "stdout",
     "output_type": "stream",
     "text": [
      "Traings done : 343 / 343\r"
     ]
    }
   ],
   "source": [
    "# set my parameters\n",
    "maxIter = 600\n",
    "lr = 0.001\n",
    "\n",
    "grid_sigma = [0.0001, 0.001, 0.01, 0.1, 1, 10, 100]\n",
    "grid_var = [0.0001, 0.001, 0.01, 0.1, 1, 10, 100]\n",
    "grid_Lambda = [0.0001, 0.001, 0.01, 0.1, 1, 10, 100]\n",
    "\n",
    "params = []\n",
    "accuracies_test = []\n",
    "accuracies_train = []\n",
    "\n",
    "num_train = len(grid_sigma) * len(grid_var) * len(grid_Lambda) \n",
    "counter = 1\n",
    "\n",
    "for sigma in grid_sigma:\n",
    "    for var in grid_var:\n",
    "        for Lambda in grid_Lambda:\n",
    "            my_log_reg = custom_log_reg(kernel='custom', hyper_kernel=(sigma, var))\n",
    "            costs = my_log_reg.fit(X=x_train, y=y_train, lr=lr, max_steps=maxIter, Lambda = Lambda)\n",
    "            \n",
    "            # assess the results!\n",
    "            Z = my_log_reg.predict(x_test, threshold=0.5)\n",
    "            Z_train = my_log_reg.predict(x_train, threshold=0.5)\n",
    "            \n",
    "            # saving accuracies and settings\n",
    "            accuracies_test.append(accuracy_score(y_test, Z))\n",
    "            accuracies_train.append(accuracy_score(y_train, Z_train))\n",
    "            params.append({\n",
    "                \"sigma\" : sigma,\n",
    "                \"var\" : var,\n",
    "                \"Lambda\" : Lambda\n",
    "            })\n",
    "            \n",
    "            # progresses\n",
    "            print(\"Traings done : {} / {}\".format(counter, num_train), end=\"\\r\")\n",
    "            counter += 1\n"
   ]
  },
  {
   "cell_type": "code",
   "execution_count": 6,
   "id": "82d4bbc9",
   "metadata": {},
   "outputs": [
    {
     "name": "stdout",
     "output_type": "stream",
     "text": [
      "[0.361, 0.361, 0.361, 0.361, 0.361, 0.361, 0.361, 0.361, 0.361, 0.361, 0.361, 0.361, 0.361, 0.361, 0.361, 0.361, 0.361, 0.361, 0.361, 0.361, 0.361, 0.361, 0.361, 0.361, 0.361, 0.361, 0.361, 0.361, 0.361, 0.361, 0.361, 0.361, 0.361, 0.361, 0.361, 0.361, 0.361, 0.361, 0.361, 0.361, 0.361, 0.361, 0.361, 0.361, 0.361, 0.361, 0.361, 0.361, 0.361, 0.361, 0.361, 0.361, 0.361, 0.361, 0.361, 0.361, 0.361, 0.361, 0.361, 0.361, 0.361, 0.361, 0.361, 0.361, 0.361, 0.361, 0.361, 0.361, 0.361, 0.361, 0.361, 0.361, 0.361, 0.361, 0.361, 0.361, 0.361, 0.361, 0.361, 0.361, 0.361, 0.361, 0.361, 0.361, 0.361, 0.361, 0.361, 0.361, 0.361, 0.361, 0.361, 0.361, 0.361, 0.361, 0.361, 0.361, 0.361, 0.361, 0.361, 0.361, 0.361, 0.361, 0.361, 0.361, 0.361, 0.361, 0.361, 0.361, 0.361, 0.361, 0.361, 0.361, 0.361, 0.361, 0.361, 0.361, 0.361, 0.361, 0.361, 0.361, 0.361, 0.361, 0.361, 0.361, 0.361, 0.361, 0.361, 0.361, 0.361, 0.361, 0.361, 0.361, 0.361, 0.361, 0.361, 0.361, 0.361, 0.361, 0.361, 0.361, 0.361, 0.361, 0.361, 0.361, 0.361, 0.361, 0.361, 0.361, 0.361, 0.361, 0.361, 0.361, 0.361, 0.361, 0.361, 0.361, 0.361, 0.361, 0.361, 0.361, 0.361, 0.361, 0.361, 0.361, 0.361, 0.361, 0.361, 0.361, 0.361, 0.361, 0.361, 0.361, 0.361, 0.361, 0.361, 0.361, 0.361, 0.361, 0.361, 0.361, 0.361, 0.361, 0.361, 0.361, 0.361, 0.361, 0.361, 0.361, 0.361, 0.361, 0.361, 0.361, 0.361, 0.361, 0.361, 0.361, 0.361, 0.361, 0.361, 0.361, 0.361, 0.361, 0.361, 0.361, 0.361, 0.361, 0.361, 0.361, 0.361, 0.361, 0.361, 0.361, 0.361, 0.361, 0.361, 0.361, 0.361, 0.361, 0.361, 0.361, 0.361, 0.361, 0.361, 0.361, 0.361, 0.361, 0.361, 0.361, 0.361, 0.361, 0.361, 0.361, 0.361, 0.361, 0.361, 0.361, 0.361, 0.361, 0.361, 0.361, 0.361, 0.361, 0.361, 0.361, 0.361, 0.361, 0.361, 0.361, 0.361, 0.361, 0.361, 0.361, 0.361, 0.361, 0.361, 0.361, 0.361, 0.361, 0.361, 0.361, 0.361, 0.361, 0.361, 0.361, 0.361, 0.361, 0.361, 0.361, 0.361, 0.361, 0.361, 0.361, 0.361, 0.361, 0.361, 0.361, 0.361, 0.361, 0.361, 0.361, 0.361, 0.361, 0.361, 0.361, 0.361, 0.361, 0.361, 0.361, 0.361, 0.361, 0.361, 0.361, 0.361, 0.361, 0.361, 0.361, 0.361, 0.361, 0.361, 0.361, 0.361, 0.361, 0.361, 0.361, 0.361, 0.361, 0.361, 0.361, 0.361, 0.361, 0.361, 0.361, 0.361, 0.361, 0.361, 0.361, 0.361, 0.361, 0.361, 0.361, 0.361, 0.361, 0.361, 0.361, 0.361, 0.361, 0.361, 0.361, 0.361, 0.361, 0.361, 0.361, 0.361, 0.361, 0.361, 0.361, 0.361, 0.361, 0.361, 0.361, 0.361, 0.361, 0.361]\n"
     ]
    }
   ],
   "source": [
    "print(accuracies_test)"
   ]
  },
  {
   "cell_type": "code",
   "execution_count": null,
   "id": "d9bbccfb",
   "metadata": {},
   "outputs": [],
   "source": []
  }
 ],
 "metadata": {
  "kernelspec": {
   "display_name": "Python 3 (ipykernel)",
   "language": "python",
   "name": "python3"
  },
  "language_info": {
   "codemirror_mode": {
    "name": "ipython",
    "version": 3
   },
   "file_extension": ".py",
   "mimetype": "text/x-python",
   "name": "python",
   "nbconvert_exporter": "python",
   "pygments_lexer": "ipython3",
   "version": "3.8.12"
  }
 },
 "nbformat": 4,
 "nbformat_minor": 5
}
