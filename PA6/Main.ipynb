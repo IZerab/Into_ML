{
 "cells": [
  {
   "cell_type": "code",
   "execution_count": 1,
   "id": "385d560a",
   "metadata": {},
   "outputs": [],
   "source": [
    "import h5py\n",
    "import numpy as np\n",
    "import pandas as pd\n",
    "from sklearn.preprocessing import StandardScaler\n",
    "import matplotlib.colors as colors\n",
    "from sklearn.metrics import accuracy_score\n",
    "from sklearn.metrics import confusion_matrix, ConfusionMatrixDisplay\n",
    "from sklearn.model_selection import GridSearchCV\n",
    "from collections import Counter\n",
    "import seaborn\n",
    "import random\n",
    "\n",
    "# custom libs\n",
    "from Task_1 import custom_log_reg\n",
    "from Task_1 import decision_chimney_kids\n",
    "\n",
    "\n",
    "import numpy as np\n",
    "import warnings\n",
    "\n",
    "\n",
    "# suppress warnings since we are using exp and large number for the first iterates! \n",
    "warnings.filterwarnings('ignore')"
   ]
  },
  {
   "cell_type": "markdown",
   "id": "ffd65279",
   "metadata": {},
   "source": [
    "# Task 1: build a kernelized logistic regressor"
   ]
  },
  {
   "cell_type": "markdown",
   "id": "d4c1a8a8",
   "metadata": {},
   "source": [
    "To implement the kernel logistic regression I created a dedicate class which contained 3 modules:\n",
    "\n",
    "- **fit:** the function first cast the input to a numpy.array (I added this part since it is easier to handle data in a pandas DF format) and then I saved the number of instances (m). Then I computed the kernel matrix with the function that was instantiated when initializing the function using the keywords \"gaussian\" or \"linear\" (notice that only a RBF and a Linear Kernel are implemented at the moment! The kernel matrix is then saved inside the class. To add more kernel it is necessary to update the __init__ module of the class and to create the appropriate kernel function. I did not add them since only the RBF kernel was requested, but I implemented a scalable function, like requested in the assignment). Then I initialize a vector of zeros for the alpha weights with the same dimension as the numebr of instances. Subsequently I implemented the vanilla GD (executed for max_iter iterations times - or when the control condition was satisfied!) computing the gradient of the logistic regression cost function (see the code for the math). The tuned weights are saved inside the class and are available for the next parts.\n",
    "\n",
    "- **predict_prob:** the function computes the sigmoid of the dot product between the trained alphas and the already computed kernel matrix, those are the probabilities.\n",
    "\n",
    "- **predict:** calls predict_prob to get the probabilities and then applies a threshold to get the labels in the binary classification problem"
   ]
  },
  {
   "cell_type": "markdown",
   "id": "e561dd3d",
   "metadata": {},
   "source": [
    "# Import data"
   ]
  },
  {
   "cell_type": "code",
   "execution_count": 2,
   "id": "11cc60df",
   "metadata": {},
   "outputs": [],
   "source": [
    "random.seed(42)\n",
    "\n",
    "hf = h5py.File(\"regression.h5\", \"r\")\n",
    "x_train = np.array(hf.get(\"x_train\"))\n",
    "y_train_double = np.array(hf.get(\"y_train\"))\n",
    "x_test = np.array(hf.get(\"x_test\"))\n",
    "y_test_double = np.array(hf.get(\"y_test\"))\n",
    "hf.close()\n",
    "\n",
    "y_train_double = np.stack(y_train_double, axis=1 )\n",
    "y_test_double = np.stack(y_test_double, axis=1 )\n",
    "\n",
    "\n",
    "\n",
    "# scale the data\n",
    "my_scaler = StandardScaler()\n",
    "x_train = my_scaler.fit_transform(x_train)\n",
    "x_test = my_scaler.transform(x_test)\n",
    "\n",
    "# create a pandas df\n",
    "columns = [\"x\", \"y\", \"age_house\", \"carbon_emission\", \"dist_school\", \"avg_child_neigh\"]\n",
    "x_train = pd.DataFrame(x_train, columns = columns)\n",
    "x_test = pd.DataFrame(x_test, columns = columns)\n",
    "y_train = pd.Series(y_train_double[0], name=\"Chimney\")\n",
    "y_test = pd.Series(y_test_double[0], name=\"Chimney\")\n",
    "\n",
    "# create the ML dataframes for task 1.1\n",
    "x_train_1 = x_train.loc[:, ['x', 'y']]\n",
    "x_test_1 = x_test.loc[:, ['x', 'y']]\n",
    "\n",
    "x_train.head()\n",
    "\n",
    "y_train[y_train == 0] = -1\n",
    "y_test[y_test == 0] = -1\n",
    "\n"
   ]
  },
  {
   "cell_type": "markdown",
   "id": "7ff833a8",
   "metadata": {},
   "source": [
    "# Subtask 1: Kernelized Logistic Regression"
   ]
  },
  {
   "cell_type": "code",
   "execution_count": 3,
   "id": "b4200c73",
   "metadata": {},
   "outputs": [
    {
     "name": "stdout",
     "output_type": "stream",
     "text": [
      "-----------------------------------\n",
      "The accuracy score on train resulted to be: 0.192\n",
      "The accuracy score on test resulted to be: 0.148\n",
      "-----------------------------------\n"
     ]
    },
    {
     "data": {
      "text/plain": [
       "<sklearn.metrics._plot.confusion_matrix.ConfusionMatrixDisplay at 0x1ce26acccd0>"
      ]
     },
     "execution_count": 3,
     "metadata": {},
     "output_type": "execute_result"
    },
    {
     "data": {
      "image/png": "[encoded data removed]",
      "text/plain": [
       "<Figure size 432x288 with 2 Axes>"
      ]
     },
     "metadata": {
      "needs_background": "light"
     },
     "output_type": "display_data"
    }
   ],
   "source": [
    "# set my parameters\n",
    "maxIter = 1000\n",
    "sigma = 0.1\n",
    "alpha = np.zeros(4)\n",
    "\n",
    "# create the ML dataframes\n",
    "x_train_1 = x_train.loc[:, ['x', 'y']]\n",
    "x_test_1 = x_test.loc[:, ['x', 'y']]\n",
    "\n",
    "my_log_reg = custom_log_reg(kernel='gaussian', hyper_kernel=sigma)\n",
    "costs = my_log_reg.fit(X=x_train_1, y=y_train, max_steps=maxIter, Lambda = 0.001, epsilon=1e-6)\n",
    "\n",
    "# assess the results!\n",
    "Z = my_log_reg.predict(x_test_1, threshold=0.5)\n",
    "Z_train = my_log_reg.predict(x_train_1, threshold=0.5)\n",
    "\n",
    "print(\"-----------------------------------\")\n",
    "print(\"The accuracy score on train resulted to be: {}\".format(accuracy_score(Z_train, y_train)))\n",
    "print(\"The accuracy score on test resulted to be: {}\".format(accuracy_score(Z, y_test)))\n",
    "print(\"-----------------------------------\")\n",
    "\n",
    "# plot the confusion matrix\n",
    "disp = ConfusionMatrixDisplay(confusion_matrix(Z, y_test))\n",
    "disp.plot()"
   ]
  },
  {
   "cell_type": "markdown",
   "id": "ba53e45d",
   "metadata": {},
   "source": [
    "# subtask 2: get better results!\n",
    "\n",
    "In this task we use all the training data to do the regression. Since we are using a lot of features we need to have fast kernel computations i.e. not computing puntually each element of the kernel matrix! A nice way to do that is using the fact that you can compute the norm of each element of the design matrix and storing it. This avoid to compute the norm each iteration saving time, in fact that ||x_i-x_j||^2 = ||x_i||^2 + ||x_j||^2 - 2 * x_i^T * x_j.\n",
    "I also implemented the operations s.t. we are using matrix notation, making it more readable.\n",
    "\n",
    "I decided to use a custom kernel structured as the sum of two different gaussian kernels: the first kernel was computed using only the first two features (i.e. x and y) while the second kernel was computed using only the last 4 features (i.e. the remaining ones). The intuition behind it is that the logistic regression computed only on the x and y data was already good enough (see the test accuracy in the previous exercise!) so I wanted to somehow add new information to better the prediction. The strategy proved to be effective.\n",
    "\n",
    "The hyperparameter of the kernel are:\n",
    "\n",
    "- sigma of the first gaussian kernel\n",
    "- sigma of the second gaussian kernel\n",
    "- multiplicative factor for the second hyperparameter\n",
    "\n",
    "I chose not to do a cross validation because I wanted to try different hyperparameters (I had very few ideas about which could have been useful hyperparameter, so I chose a log-scaled grid!) and the computational time was high. Ideally a grid search CV would be preferable.\n",
    "\n",
    "After a couple of numerical experiments I found out that a threshold value of 0.4 is really effective in generalizing well."
   ]
  },
  {
   "cell_type": "code",
   "execution_count": 4,
   "id": "ba254c4e",
   "metadata": {},
   "outputs": [],
   "source": [
    "# set my parameters\n",
    "maxIter = 2000\n",
    "sigma_1 = 0.2\n",
    "sigma_2 = 0.1\n",
    "para_sum = 1\n",
    "Lambda = 0.01\n",
    "alpha = np.zeros(4)\n",
    "\n",
    "my_log_reg = custom_log_reg(kernel='custom', hyper_kernel=(sigma_1, sigma_1, para_sum))\n",
    "costs = my_log_reg.fit(X=x_train, y=y_train, max_steps=maxIter, Lambda = Lambda, epsilon=1e-6)"
   ]
  },
  {
   "cell_type": "code",
   "execution_count": 5,
   "id": "54c01087",
   "metadata": {},
   "outputs": [
    {
     "name": "stdout",
     "output_type": "stream",
     "text": [
      "-----------------------------------\n",
      "The accuracy score on train resulted to be: 0.143\n",
      "The accuracy score on test resulted to be: 0.085\n",
      "-----------------------------------\n"
     ]
    },
    {
     "data": {
      "text/plain": [
       "<sklearn.metrics._plot.confusion_matrix.ConfusionMatrixDisplay at 0x1ce27352eb0>"
      ]
     },
     "execution_count": 5,
     "metadata": {},
     "output_type": "execute_result"
    },
    {
     "data": {
      "image/png": "[encoded data removed]",
      "text/plain": [
       "<Figure size 432x288 with 2 Axes>"
      ]
     },
     "metadata": {
      "needs_background": "light"
     },
     "output_type": "display_data"
    }
   ],
   "source": [
    "# assess the results!\n",
    "Z = my_log_reg.predict(x_test, threshold=0.4)\n",
    "Z_train = my_log_reg.predict(x_train, threshold=0.4)\n",
    "\n",
    "print(\"-----------------------------------\")\n",
    "print(\"The accuracy score on train resulted to be: {}\".format(accuracy_score(Z_train, y_train)))\n",
    "print(\"The accuracy score on test resulted to be: {}\".format(accuracy_score(Z, y_test)))\n",
    "print(\"-----------------------------------\")\n",
    "\n",
    "# plot the confusion matrix\n",
    "disp = ConfusionMatrixDisplay(confusion_matrix(Z, y_test))\n",
    "disp.plot()"
   ]
  },
  {
   "cell_type": "code",
   "execution_count": null,
   "id": "2c0b6b50",
   "metadata": {},
   "outputs": [],
   "source": []
  },
  {
   "cell_type": "code",
   "execution_count": 6,
   "id": "56f2818a",
   "metadata": {},
   "outputs": [
    {
     "ename": "ValueError",
     "evalue": "Maximum allowed size exceeded",
     "output_type": "error",
     "traceback": [
      "\u001b[1;31m---------------------------------------------------------------------------\u001b[0m",
      "\u001b[1;31mValueError\u001b[0m                                Traceback (most recent call last)",
      "\u001b[1;32m~\\AppData\\Local\\Temp/ipykernel_7412/1330073158.py\u001b[0m in \u001b[0;36m<module>\u001b[1;34m\u001b[0m\n\u001b[0;32m      1\u001b[0m \u001b[0mZ\u001b[0m \u001b[1;33m=\u001b[0m \u001b[0mmy_log_reg\u001b[0m\u001b[1;33m.\u001b[0m\u001b[0mpredict_prob\u001b[0m\u001b[1;33m(\u001b[0m\u001b[0mx_test\u001b[0m\u001b[1;33m)\u001b[0m\u001b[1;33m\u001b[0m\u001b[1;33m\u001b[0m\u001b[0m\n\u001b[1;32m----> 2\u001b[1;33m \u001b[0mseaborn\u001b[0m\u001b[1;33m.\u001b[0m\u001b[0mhistplot\u001b[0m\u001b[1;33m(\u001b[0m\u001b[0mZ\u001b[0m\u001b[1;33m)\u001b[0m\u001b[1;33m\u001b[0m\u001b[1;33m\u001b[0m\u001b[0m\n\u001b[0m",
      "\u001b[1;32m~\\anaconda3\\envs\\introML\\lib\\site-packages\\seaborn\\distributions.py\u001b[0m in \u001b[0;36mhistplot\u001b[1;34m(data, x, y, hue, weights, stat, bins, binwidth, binrange, discrete, cumulative, common_bins, common_norm, multiple, element, fill, shrink, kde, kde_kws, line_kws, thresh, pthresh, pmax, cbar, cbar_ax, cbar_kws, palette, hue_order, hue_norm, color, log_scale, legend, ax, **kwargs)\u001b[0m\n\u001b[0;32m   1460\u001b[0m     \u001b[1;32mif\u001b[0m \u001b[0mp\u001b[0m\u001b[1;33m.\u001b[0m\u001b[0munivariate\u001b[0m\u001b[1;33m:\u001b[0m\u001b[1;33m\u001b[0m\u001b[1;33m\u001b[0m\u001b[0m\n\u001b[0;32m   1461\u001b[0m \u001b[1;33m\u001b[0m\u001b[0m\n\u001b[1;32m-> 1462\u001b[1;33m         p.plot_univariate_histogram(\n\u001b[0m\u001b[0;32m   1463\u001b[0m             \u001b[0mmultiple\u001b[0m\u001b[1;33m=\u001b[0m\u001b[0mmultiple\u001b[0m\u001b[1;33m,\u001b[0m\u001b[1;33m\u001b[0m\u001b[1;33m\u001b[0m\u001b[0m\n\u001b[0;32m   1464\u001b[0m             \u001b[0melement\u001b[0m\u001b[1;33m=\u001b[0m\u001b[0melement\u001b[0m\u001b[1;33m,\u001b[0m\u001b[1;33m\u001b[0m\u001b[1;33m\u001b[0m\u001b[0m\n",
      "\u001b[1;32m~\\anaconda3\\envs\\introML\\lib\\site-packages\\seaborn\\distributions.py\u001b[0m in \u001b[0;36mplot_univariate_histogram\u001b[1;34m(self, multiple, element, fill, common_norm, common_bins, shrink, kde, kde_kws, color, legend, line_kws, estimate_kws, **plot_kws)\u001b[0m\n\u001b[0;32m    439\u001b[0m \u001b[1;33m\u001b[0m\u001b[0m\n\u001b[0;32m    440\u001b[0m             \u001b[1;31m# Do the histogram computation\u001b[0m\u001b[1;33m\u001b[0m\u001b[1;33m\u001b[0m\u001b[1;33m\u001b[0m\u001b[0m\n\u001b[1;32m--> 441\u001b[1;33m             \u001b[0mheights\u001b[0m\u001b[1;33m,\u001b[0m \u001b[0medges\u001b[0m \u001b[1;33m=\u001b[0m \u001b[0mestimator\u001b[0m\u001b[1;33m(\u001b[0m\u001b[0mobservations\u001b[0m\u001b[1;33m,\u001b[0m \u001b[0mweights\u001b[0m\u001b[1;33m=\u001b[0m\u001b[0mweights\u001b[0m\u001b[1;33m)\u001b[0m\u001b[1;33m\u001b[0m\u001b[1;33m\u001b[0m\u001b[0m\n\u001b[0m\u001b[0;32m    442\u001b[0m \u001b[1;33m\u001b[0m\u001b[0m\n\u001b[0;32m    443\u001b[0m             \u001b[1;31m# Rescale the smoothed curve to match the histogram\u001b[0m\u001b[1;33m\u001b[0m\u001b[1;33m\u001b[0m\u001b[1;33m\u001b[0m\u001b[0m\n",
      "\u001b[1;32m~\\anaconda3\\envs\\introML\\lib\\site-packages\\seaborn\\_statistics.py\u001b[0m in \u001b[0;36m__call__\u001b[1;34m(self, x1, x2, weights)\u001b[0m\n\u001b[0;32m    384\u001b[0m         \u001b[1;34m\"\"\"Count the occurrences in each bin, maybe normalize.\"\"\"\u001b[0m\u001b[1;33m\u001b[0m\u001b[1;33m\u001b[0m\u001b[0m\n\u001b[0;32m    385\u001b[0m         \u001b[1;32mif\u001b[0m \u001b[0mx2\u001b[0m \u001b[1;32mis\u001b[0m \u001b[1;32mNone\u001b[0m\u001b[1;33m:\u001b[0m\u001b[1;33m\u001b[0m\u001b[1;33m\u001b[0m\u001b[0m\n\u001b[1;32m--> 386\u001b[1;33m             \u001b[1;32mreturn\u001b[0m \u001b[0mself\u001b[0m\u001b[1;33m.\u001b[0m\u001b[0m_eval_univariate\u001b[0m\u001b[1;33m(\u001b[0m\u001b[0mx1\u001b[0m\u001b[1;33m,\u001b[0m \u001b[0mweights\u001b[0m\u001b[1;33m)\u001b[0m\u001b[1;33m\u001b[0m\u001b[1;33m\u001b[0m\u001b[0m\n\u001b[0m\u001b[0;32m    387\u001b[0m         \u001b[1;32melse\u001b[0m\u001b[1;33m:\u001b[0m\u001b[1;33m\u001b[0m\u001b[1;33m\u001b[0m\u001b[0m\n\u001b[0;32m    388\u001b[0m             \u001b[1;32mreturn\u001b[0m \u001b[0mself\u001b[0m\u001b[1;33m.\u001b[0m\u001b[0m_eval_bivariate\u001b[0m\u001b[1;33m(\u001b[0m\u001b[0mx1\u001b[0m\u001b[1;33m,\u001b[0m \u001b[0mx2\u001b[0m\u001b[1;33m,\u001b[0m \u001b[0mweights\u001b[0m\u001b[1;33m)\u001b[0m\u001b[1;33m\u001b[0m\u001b[1;33m\u001b[0m\u001b[0m\n",
      "\u001b[1;32m~\\anaconda3\\envs\\introML\\lib\\site-packages\\seaborn\\_statistics.py\u001b[0m in \u001b[0;36m_eval_univariate\u001b[1;34m(self, x, weights)\u001b[0m\n\u001b[0;32m    359\u001b[0m         \u001b[0mbin_kws\u001b[0m \u001b[1;33m=\u001b[0m \u001b[0mself\u001b[0m\u001b[1;33m.\u001b[0m\u001b[0mbin_kws\u001b[0m\u001b[1;33m\u001b[0m\u001b[1;33m\u001b[0m\u001b[0m\n\u001b[0;32m    360\u001b[0m         \u001b[1;32mif\u001b[0m \u001b[0mbin_kws\u001b[0m \u001b[1;32mis\u001b[0m \u001b[1;32mNone\u001b[0m\u001b[1;33m:\u001b[0m\u001b[1;33m\u001b[0m\u001b[1;33m\u001b[0m\u001b[0m\n\u001b[1;32m--> 361\u001b[1;33m             \u001b[0mbin_kws\u001b[0m \u001b[1;33m=\u001b[0m \u001b[0mself\u001b[0m\u001b[1;33m.\u001b[0m\u001b[0mdefine_bin_params\u001b[0m\u001b[1;33m(\u001b[0m\u001b[0mx\u001b[0m\u001b[1;33m,\u001b[0m \u001b[0mweights\u001b[0m\u001b[1;33m=\u001b[0m\u001b[0mweights\u001b[0m\u001b[1;33m,\u001b[0m \u001b[0mcache\u001b[0m\u001b[1;33m=\u001b[0m\u001b[1;32mFalse\u001b[0m\u001b[1;33m)\u001b[0m\u001b[1;33m\u001b[0m\u001b[1;33m\u001b[0m\u001b[0m\n\u001b[0m\u001b[0;32m    362\u001b[0m \u001b[1;33m\u001b[0m\u001b[0m\n\u001b[0;32m    363\u001b[0m         \u001b[0mdensity\u001b[0m \u001b[1;33m=\u001b[0m \u001b[0mself\u001b[0m\u001b[1;33m.\u001b[0m\u001b[0mstat\u001b[0m \u001b[1;33m==\u001b[0m \u001b[1;34m\"density\"\u001b[0m\u001b[1;33m\u001b[0m\u001b[1;33m\u001b[0m\u001b[0m\n",
      "\u001b[1;32m~\\anaconda3\\envs\\introML\\lib\\site-packages\\seaborn\\_statistics.py\u001b[0m in \u001b[0;36mdefine_bin_params\u001b[1;34m(self, x1, x2, weights, cache)\u001b[0m\n\u001b[0;32m    267\u001b[0m         \u001b[1;32mif\u001b[0m \u001b[0mx2\u001b[0m \u001b[1;32mis\u001b[0m \u001b[1;32mNone\u001b[0m\u001b[1;33m:\u001b[0m\u001b[1;33m\u001b[0m\u001b[1;33m\u001b[0m\u001b[0m\n\u001b[0;32m    268\u001b[0m \u001b[1;33m\u001b[0m\u001b[0m\n\u001b[1;32m--> 269\u001b[1;33m             bin_edges = self._define_bin_edges(\n\u001b[0m\u001b[0;32m    270\u001b[0m                 \u001b[0mx1\u001b[0m\u001b[1;33m,\u001b[0m \u001b[0mweights\u001b[0m\u001b[1;33m,\u001b[0m \u001b[0mself\u001b[0m\u001b[1;33m.\u001b[0m\u001b[0mbins\u001b[0m\u001b[1;33m,\u001b[0m \u001b[0mself\u001b[0m\u001b[1;33m.\u001b[0m\u001b[0mbinwidth\u001b[0m\u001b[1;33m,\u001b[0m \u001b[0mself\u001b[0m\u001b[1;33m.\u001b[0m\u001b[0mbinrange\u001b[0m\u001b[1;33m,\u001b[0m \u001b[0mself\u001b[0m\u001b[1;33m.\u001b[0m\u001b[0mdiscrete\u001b[0m\u001b[1;33m,\u001b[0m\u001b[1;33m\u001b[0m\u001b[1;33m\u001b[0m\u001b[0m\n\u001b[0;32m    271\u001b[0m             )\n",
      "\u001b[1;32m~\\anaconda3\\envs\\introML\\lib\\site-packages\\seaborn\\_statistics.py\u001b[0m in \u001b[0;36m_define_bin_edges\u001b[1;34m(self, x, weights, bins, binwidth, binrange, discrete)\u001b[0m\n\u001b[0;32m    258\u001b[0m             \u001b[0mbin_edges\u001b[0m \u001b[1;33m=\u001b[0m \u001b[0mnp\u001b[0m\u001b[1;33m.\u001b[0m\u001b[0marange\u001b[0m\u001b[1;33m(\u001b[0m\u001b[0mstart\u001b[0m\u001b[1;33m,\u001b[0m \u001b[0mstop\u001b[0m \u001b[1;33m+\u001b[0m \u001b[0mstep\u001b[0m\u001b[1;33m,\u001b[0m \u001b[0mstep\u001b[0m\u001b[1;33m)\u001b[0m\u001b[1;33m\u001b[0m\u001b[1;33m\u001b[0m\u001b[0m\n\u001b[0;32m    259\u001b[0m         \u001b[1;32melse\u001b[0m\u001b[1;33m:\u001b[0m\u001b[1;33m\u001b[0m\u001b[1;33m\u001b[0m\u001b[0m\n\u001b[1;32m--> 260\u001b[1;33m             bin_edges = np.histogram_bin_edges(\n\u001b[0m\u001b[0;32m    261\u001b[0m                 \u001b[0mx\u001b[0m\u001b[1;33m,\u001b[0m \u001b[0mbins\u001b[0m\u001b[1;33m,\u001b[0m \u001b[0mbinrange\u001b[0m\u001b[1;33m,\u001b[0m \u001b[0mweights\u001b[0m\u001b[1;33m,\u001b[0m\u001b[1;33m\u001b[0m\u001b[1;33m\u001b[0m\u001b[0m\n\u001b[0;32m    262\u001b[0m             )\n",
      "\u001b[1;32m<__array_function__ internals>\u001b[0m in \u001b[0;36mhistogram_bin_edges\u001b[1;34m(*args, **kwargs)\u001b[0m\n",
      "\u001b[1;32m~\\anaconda3\\envs\\introML\\lib\\site-packages\\numpy\\lib\\histograms.py\u001b[0m in \u001b[0;36mhistogram_bin_edges\u001b[1;34m(a, bins, range, weights)\u001b[0m\n\u001b[0;32m    667\u001b[0m     \"\"\"\n\u001b[0;32m    668\u001b[0m     \u001b[0ma\u001b[0m\u001b[1;33m,\u001b[0m \u001b[0mweights\u001b[0m \u001b[1;33m=\u001b[0m \u001b[0m_ravel_and_check_weights\u001b[0m\u001b[1;33m(\u001b[0m\u001b[0ma\u001b[0m\u001b[1;33m,\u001b[0m \u001b[0mweights\u001b[0m\u001b[1;33m)\u001b[0m\u001b[1;33m\u001b[0m\u001b[1;33m\u001b[0m\u001b[0m\n\u001b[1;32m--> 669\u001b[1;33m     \u001b[0mbin_edges\u001b[0m\u001b[1;33m,\u001b[0m \u001b[0m_\u001b[0m \u001b[1;33m=\u001b[0m \u001b[0m_get_bin_edges\u001b[0m\u001b[1;33m(\u001b[0m\u001b[0ma\u001b[0m\u001b[1;33m,\u001b[0m \u001b[0mbins\u001b[0m\u001b[1;33m,\u001b[0m \u001b[0mrange\u001b[0m\u001b[1;33m,\u001b[0m \u001b[0mweights\u001b[0m\u001b[1;33m)\u001b[0m\u001b[1;33m\u001b[0m\u001b[1;33m\u001b[0m\u001b[0m\n\u001b[0m\u001b[0;32m    670\u001b[0m     \u001b[1;32mreturn\u001b[0m \u001b[0mbin_edges\u001b[0m\u001b[1;33m\u001b[0m\u001b[1;33m\u001b[0m\u001b[0m\n\u001b[0;32m    671\u001b[0m \u001b[1;33m\u001b[0m\u001b[0m\n",
      "\u001b[1;32m~\\anaconda3\\envs\\introML\\lib\\site-packages\\numpy\\lib\\histograms.py\u001b[0m in \u001b[0;36m_get_bin_edges\u001b[1;34m(a, bins, range, weights)\u001b[0m\n\u001b[0;32m    444\u001b[0m \u001b[1;33m\u001b[0m\u001b[0m\n\u001b[0;32m    445\u001b[0m         \u001b[1;31m# bin edges must be computed\u001b[0m\u001b[1;33m\u001b[0m\u001b[1;33m\u001b[0m\u001b[1;33m\u001b[0m\u001b[0m\n\u001b[1;32m--> 446\u001b[1;33m         bin_edges = np.linspace(\n\u001b[0m\u001b[0;32m    447\u001b[0m             \u001b[0mfirst_edge\u001b[0m\u001b[1;33m,\u001b[0m \u001b[0mlast_edge\u001b[0m\u001b[1;33m,\u001b[0m \u001b[0mn_equal_bins\u001b[0m \u001b[1;33m+\u001b[0m \u001b[1;36m1\u001b[0m\u001b[1;33m,\u001b[0m\u001b[1;33m\u001b[0m\u001b[1;33m\u001b[0m\u001b[0m\n\u001b[0;32m    448\u001b[0m             endpoint=True, dtype=bin_type)\n",
      "\u001b[1;32m<__array_function__ internals>\u001b[0m in \u001b[0;36mlinspace\u001b[1;34m(*args, **kwargs)\u001b[0m\n",
      "\u001b[1;32m~\\anaconda3\\envs\\introML\\lib\\site-packages\\numpy\\core\\function_base.py\u001b[0m in \u001b[0;36mlinspace\u001b[1;34m(start, stop, num, endpoint, retstep, dtype, axis)\u001b[0m\n\u001b[0;32m    133\u001b[0m \u001b[1;33m\u001b[0m\u001b[0m\n\u001b[0;32m    134\u001b[0m     \u001b[0mdelta\u001b[0m \u001b[1;33m=\u001b[0m \u001b[0mstop\u001b[0m \u001b[1;33m-\u001b[0m \u001b[0mstart\u001b[0m\u001b[1;33m\u001b[0m\u001b[1;33m\u001b[0m\u001b[0m\n\u001b[1;32m--> 135\u001b[1;33m     \u001b[0my\u001b[0m \u001b[1;33m=\u001b[0m \u001b[0m_nx\u001b[0m\u001b[1;33m.\u001b[0m\u001b[0marange\u001b[0m\u001b[1;33m(\u001b[0m\u001b[1;36m0\u001b[0m\u001b[1;33m,\u001b[0m \u001b[0mnum\u001b[0m\u001b[1;33m,\u001b[0m \u001b[0mdtype\u001b[0m\u001b[1;33m=\u001b[0m\u001b[0mdt\u001b[0m\u001b[1;33m)\u001b[0m\u001b[1;33m.\u001b[0m\u001b[0mreshape\u001b[0m\u001b[1;33m(\u001b[0m\u001b[1;33m(\u001b[0m\u001b[1;33m-\u001b[0m\u001b[1;36m1\u001b[0m\u001b[1;33m,\u001b[0m\u001b[1;33m)\u001b[0m \u001b[1;33m+\u001b[0m \u001b[1;33m(\u001b[0m\u001b[1;36m1\u001b[0m\u001b[1;33m,\u001b[0m\u001b[1;33m)\u001b[0m \u001b[1;33m*\u001b[0m \u001b[0mndim\u001b[0m\u001b[1;33m(\u001b[0m\u001b[0mdelta\u001b[0m\u001b[1;33m)\u001b[0m\u001b[1;33m)\u001b[0m\u001b[1;33m\u001b[0m\u001b[1;33m\u001b[0m\u001b[0m\n\u001b[0m\u001b[0;32m    136\u001b[0m     \u001b[1;31m# In-place multiplication y *= delta/div is faster, but prevents the multiplicant\u001b[0m\u001b[1;33m\u001b[0m\u001b[1;33m\u001b[0m\u001b[1;33m\u001b[0m\u001b[0m\n\u001b[0;32m    137\u001b[0m     \u001b[1;31m# from overriding what class is produced, and thus prevents, e.g. use of Quantities,\u001b[0m\u001b[1;33m\u001b[0m\u001b[1;33m\u001b[0m\u001b[1;33m\u001b[0m\u001b[0m\n",
      "\u001b[1;31mValueError\u001b[0m: Maximum allowed size exceeded"
     ]
    },
    {
     "data": {
      "image/png": "[encoded data removed]",
      "text/plain": [
       "<Figure size 432x288 with 1 Axes>"
      ]
     },
     "metadata": {
      "needs_background": "light"
     },
     "output_type": "display_data"
    }
   ],
   "source": [
    "Z = my_log_reg.predict_prob(x_test)\n",
    "seaborn.histplot(Z)"
   ]
  },
  {
   "cell_type": "markdown",
   "id": "da660786",
   "metadata": {},
   "source": [
    "# Try some Grid_search parameter selection!"
   ]
  },
  {
   "cell_type": "code",
   "execution_count": null,
   "id": "8394e1b7",
   "metadata": {},
   "outputs": [],
   "source": [
    "# set my parameters\n",
    "maxIter = 1000\n",
    "\n",
    "grid_sigma1 = [1e-3, 1e-2, 1e-1, 1]\n",
    "grid_sigma2 = [1e-3, 1e-2, 1e-1, 1]\n",
    "grid_sum = [0.25, 0.5, 0.75, 1]\n",
    "grid_Lambda = [1e-3, 1e-3, 1e-1]\n",
    "\n",
    "params = []\n",
    "accuracies_test = []\n",
    "accuracies_train = []\n",
    "\n",
    "num_train = len(grid_sigma1) * len(grid_sigma2) * len(grid_sum) * len(grid_Lambda) \n",
    "counter = 1\n",
    "\n",
    "for sigma_1 in grid_sigma1:\n",
    "    for sigma_2 in grid_sigma2:\n",
    "        for para_sum in grid_sum:\n",
    "            for Lambda in grid_Lambda:\n",
    "                my_log_reg = custom_log_reg(kernel='custom', hyper_kernel=(sigma_1, sigma_2, para_sum))\n",
    "                costs = my_log_reg.fit(X=x_train, y=y_train, max_steps=maxIter, Lambda = Lambda, epsilon = 1e-4)\n",
    "                \n",
    "                # assess the results!\n",
    "                Z = my_log_reg.predict(x_test, threshold=0.4)\n",
    "                Z_train = my_log_reg.predict(x_train, threshold=0.4)\n",
    "                \n",
    "                # saving accuracies and settings\n",
    "                accuracies_test.append(accuracy_score(y_test, Z))\n",
    "                accuracies_train.append(accuracy_score(y_train, Z_train))\n",
    "                params.append({\n",
    "                    \"sigma_spatial\" : sigma_1,\n",
    "                    \"sigma_total\" : sigma_2,\n",
    "                    \"sum_factor\" : para_sum,\n",
    "                    \"Lambda\" : Lambda\n",
    "                })\n",
    "                \n",
    "                # progresses\n",
    "                print(\"Trainigs done : {} / {}\".format(counter, num_train), end=\"\\r\")\n",
    "                counter += 1"
   ]
  },
  {
   "cell_type": "code",
   "execution_count": null,
   "id": "96147cab",
   "metadata": {},
   "outputs": [],
   "source": [
    "print(\"The best test result is {} with the following hyperparameters:\".format(max(accuracies_test)))\n",
    "index_max = np.argmax(accuracies_test)\n",
    "print(params[index_max])"
   ]
  },
  {
   "cell_type": "markdown",
   "id": "f1505dda",
   "metadata": {},
   "source": [
    "# Subtask 3: support planning 1\n",
    "\n",
    "We compute the expected cost of a delivary for any possible set of actions:\n",
    "\n",
    "I can define p(x) = P( house has a chimney | x )\n",
    "\n",
    "Therefore:\n",
    "\n",
    "$E [cost(delivered)] = 0 * p(x) + 10 * (1 - p(x)) $\n",
    "\n",
    "while\n",
    "\n",
    "$E [cost(not$ $delivered)] = 1 * p(x) + 1 * (1 - p(x)) = 1$\n",
    "\n",
    "We can see that the cost for delivering in smaller than the cost for non delivering if:\n",
    "\n",
    "$E [cost(delivered)] < E [cost(not delivered)]$ $ \\iff$ $p(x) > \\frac{9}{10}$\n",
    "\n",
    "This means that Santa should decide to go to places where the algorithm predicts that there is a likelyhood bigger than 0.9 to find a chimney in order to minimize the cost given the above contrains."
   ]
  },
  {
   "cell_type": "markdown",
   "id": "83648f5b",
   "metadata": {},
   "source": [
    "# All the validation set!"
   ]
  },
  {
   "cell_type": "code",
   "execution_count": null,
   "id": "66201bfd",
   "metadata": {},
   "outputs": [],
   "source": [
    "# train the best logistic regressor\n",
    "my_log_chimney = custom_log_reg(kernel='custom', hyper_kernel=(0.1, 1, 0.25))\n",
    "costs = my_log_chimney.fit(X=x_train, y=y_train, max_steps=2000, Lambda = 0.1, epsilon = 1e-4)"
   ]
  },
  {
   "cell_type": "code",
   "execution_count": null,
   "id": "305865c2",
   "metadata": {},
   "outputs": [],
   "source": [
    "# cost matrix\n",
    "C = np.matrix([[0, 10], [1, 1]])\n",
    "\n",
    "# compute the expected cost on the whole validation set (In the assignment there is explicitly written to use\n",
    "# all the validation set and not only the 50 houses Santa can visit)\n",
    "best_costs, decisions = my_log_chimney.decide_chimney(x_test, C)\n",
    "print(\"The sum of the expected cost on all the validation dataset is: {}\".format(np.sum(best_costs)))"
   ]
  },
  {
   "cell_type": "markdown",
   "id": "f5d1bcae",
   "metadata": {},
   "source": [
    "# A random subsample of k elements"
   ]
  },
  {
   "cell_type": "code",
   "execution_count": null,
   "id": "f6975f1c",
   "metadata": {},
   "outputs": [],
   "source": [
    "# constrain\n",
    "k = 50\n",
    "\n",
    "iter_random = []\n",
    "# consider the mean of 50 iterations!\n",
    "for _ in range(50):\n",
    "    list_of_random_items = random.sample(best_costs, k)\n",
    "    iter_random.append(np.sum(list_of_random_items))\n",
    "    \n",
    "print(\"The expected cost for {} randomly sampled houses over 50 iterations is: {}\".format(k, np.mean(iter_random)))"
   ]
  },
  {
   "cell_type": "markdown",
   "id": "258328fa",
   "metadata": {},
   "source": [
    "The expected cost results to be much lower than the one on the whole dataset, this is maily due to the fact that we are \n",
    "considering a subsample of dimension 50. We can clearly see that the main decision done by santa is to skip most of the houses because the likelyood that they have a chimney is too low."
   ]
  },
  {
   "cell_type": "code",
   "execution_count": null,
   "id": "496e7a40",
   "metadata": {},
   "outputs": [],
   "source": [
    "seaborn.histplot(decisions)\n",
    "print(\"On the total dataset Santa would delivery: {}\".format(decisions.count('Delivery')))"
   ]
  },
  {
   "cell_type": "code",
   "execution_count": null,
   "id": "27381b91",
   "metadata": {},
   "outputs": [],
   "source": [
    "counter = 0\n",
    "for i in range(len(decisions)):\n",
    "    if y_test_double[0][i] == 1 and y_test_double[1][i] == 1 and decisions[i] == \"Delivery\":\n",
    "        counter += 1\n",
    "    \n",
    "print(\"Among the delivered houses the number of houses that have kids is: {}\".format(counter))"
   ]
  },
  {
   "cell_type": "markdown",
   "id": "24ee13a3",
   "metadata": {},
   "source": [
    "It is important to notice that santa can deliver a present only if the house has a chimney"
   ]
  },
  {
   "cell_type": "markdown",
   "id": "9710674b",
   "metadata": {},
   "source": [
    "# Subtask 4"
   ]
  },
  {
   "cell_type": "code",
   "execution_count": null,
   "id": "50e74e5c",
   "metadata": {},
   "outputs": [],
   "source": [
    "# I use the rules given by the progessor in the order he gave them. I save them into a list!\n",
    "cost_children = [0, 5, 2, 10, 20, 10, 10, 5]"
   ]
  },
  {
   "cell_type": "code",
   "execution_count": null,
   "id": "1a4c5022",
   "metadata": {},
   "outputs": [],
   "source": [
    "# train the best logistic regressor to predict the presence of children\n",
    "my_log_kids = custom_log_reg(kernel='custom', hyper_kernel=(0.1, 1, 0.25))\n",
    "costs = my_log_kids.fit(X=x_train, y=y_train_double[1], max_steps=2000, Lambda = 0.1, epsilon = 1e-4)"
   ]
  },
  {
   "cell_type": "code",
   "execution_count": null,
   "id": "80a9d46c",
   "metadata": {},
   "outputs": [],
   "source": [
    "Z = my_log_kids.predict_prob(x_test)\n",
    "seaborn.histplot(Z)"
   ]
  },
  {
   "cell_type": "code",
   "execution_count": null,
   "id": "b5f7c827",
   "metadata": {},
   "outputs": [],
   "source": [
    "best_costs, decisions = decision_chimney_kids(x_test, log_kids=my_log_kids, log_chimneys = my_log_chimney, cost_vector = cost_children)"
   ]
  },
  {
   "cell_type": "code",
   "execution_count": null,
   "id": "76ef6057",
   "metadata": {},
   "outputs": [],
   "source": [
    "# constrain\n",
    "k = 50\n",
    "\n",
    "iter_random = []\n",
    "# consider the mean of 50 iterations!\n",
    "for _ in range(50):\n",
    "    list_of_random_items = random.sample(best_costs, k)\n",
    "    iter_random.append(np.sum(list_of_random_items))\n",
    "    \n",
    "print(\"The expected cost for {} randomly sampled houses over 50 iterations is: {}\".format(k, np.mean(iter_random)))"
   ]
  },
  {
   "cell_type": "code",
   "execution_count": null,
   "id": "9c35bbda",
   "metadata": {},
   "outputs": [],
   "source": [
    "seaborn.histplot(decisions)\n",
    "print(\"On the total dataset Santa would delivery: {}\".format(decisions.count('Delivery')))"
   ]
  },
  {
   "cell_type": "code",
   "execution_count": null,
   "id": "f17f1053",
   "metadata": {},
   "outputs": [],
   "source": [
    "counter = 0\n",
    "for i in range(len(decisions)):\n",
    "    if y_test_double[0][i] == 1 and y_test_double[1][i] == 1 and decisions[i] == \"Delivery\":\n",
    "        counter += 1\n",
    "    \n",
    "print(\"Among the delivered houses the number of houses that have kids is: {}\".format(counter))"
   ]
  },
  {
   "cell_type": "code",
   "execution_count": 12,
   "id": "bd3c5df3",
   "metadata": {},
   "outputs": [
    {
     "name": "stdout",
     "output_type": "stream",
     "text": [
      "[ 0.1634701   0.05613243  0.21939698 -0.84647766  0.09812145 -0.05327526\n",
      "  1.        ]\n",
      "[ 0.1634701   0.05613243  0.21939698 -0.84647766  0.09812145 -0.05327526\n",
      "  1.        ]\n"
     ]
    }
   ],
   "source": [
    "X = np.vstack([np.transpose(x_train), np.ones([len(x_train)])]).T\n",
    "print(X[1])\n",
    "\n",
    "X_1 = np.vstack([x_train.T, np.ones(len(x_train))]).T\n",
    "print(X_1[1])\n",
    "\n",
    "\n"
   ]
  },
  {
   "cell_type": "code",
   "execution_count": null,
   "id": "277324d2",
   "metadata": {},
   "outputs": [],
   "source": []
  }
 ],
 "metadata": {
  "kernelspec": {
   "display_name": "Python 3 (ipykernel)",
   "language": "python",
   "name": "python3"
  },
  "language_info": {
   "codemirror_mode": {
    "name": "ipython",
    "version": 3
   },
   "file_extension": ".py",
   "mimetype": "text/x-python",
   "name": "python",
   "nbconvert_exporter": "python",
   "pygments_lexer": "ipython3",
   "version": "3.8.12"
  }
 },
 "nbformat": 4,
 "nbformat_minor": 5
}
